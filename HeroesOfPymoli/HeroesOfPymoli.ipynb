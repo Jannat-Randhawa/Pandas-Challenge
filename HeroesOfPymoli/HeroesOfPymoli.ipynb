{
 "cells": [
  {
   "cell_type": "code",
   "execution_count": 1,
   "metadata": {},
   "outputs": [],
   "source": [
    "# Dependencies and Setup\n",
    "import pandas as pd\n",
    "\n",
    "# File to Load (Remember to Change These)\n",
    "file_to_load = \"Resources/purchase_data.csv\"\n",
    "\n",
    "# Read Purchasing File and store into Pandas data frame\n",
    "purchase_data = pd.read_csv(file_to_load)"
   ]
  },
  {
   "cell_type": "markdown",
   "metadata": {},
   "source": [
    "### Player Count "
   ]
  },
  {
   "cell_type": "markdown",
   "metadata": {},
   "source": [
    "* Display the total number of players"
   ]
  },
  {
   "cell_type": "code",
   "execution_count": 2,
   "metadata": {},
   "outputs": [
    {
     "data": {
      "text/html": [
       "<div>\n",
       "<style scoped>\n",
       "    .dataframe tbody tr th:only-of-type {\n",
       "        vertical-align: middle;\n",
       "    }\n",
       "\n",
       "    .dataframe tbody tr th {\n",
       "        vertical-align: top;\n",
       "    }\n",
       "\n",
       "    .dataframe thead th {\n",
       "        text-align: right;\n",
       "    }\n",
       "</style>\n",
       "<table border=\"1\" class=\"dataframe\">\n",
       "  <thead>\n",
       "    <tr style=\"text-align: right;\">\n",
       "      <th></th>\n",
       "      <th>Total Players</th>\n",
       "    </tr>\n",
       "  </thead>\n",
       "  <tbody>\n",
       "    <tr>\n",
       "      <th>0</th>\n",
       "      <td>576</td>\n",
       "    </tr>\n",
       "  </tbody>\n",
       "</table>\n",
       "</div>"
      ],
      "text/plain": [
       "   Total Players\n",
       "0            576"
      ]
     },
     "execution_count": 2,
     "metadata": {},
     "output_type": "execute_result"
    }
   ],
   "source": [
    "total_players = len(purchase_data[\"SN\"].unique())\n",
    "total_players_df = pd.DataFrame({\"Total Players\":[total_players]})\n",
    "total_players_df"
   ]
  },
  {
   "cell_type": "markdown",
   "metadata": {},
   "source": [
    "## Purchasing Analysis (Total)"
   ]
  },
  {
   "cell_type": "markdown",
   "metadata": {},
   "source": [
    "* Run basic calculations to obtain number of unique items, average price, etc.\n",
    "\n",
    "\n",
    "* Create a summary data frame to hold the results\n",
    "\n",
    "\n",
    "* Optional: give the displayed data cleaner formatting\n",
    "\n",
    "\n",
    "* Display the summary data frame"
   ]
  },
  {
   "cell_type": "code",
   "execution_count": 3,
   "metadata": {},
   "outputs": [
    {
     "data": {
      "text/html": [
       "<div>\n",
       "<style scoped>\n",
       "    .dataframe tbody tr th:only-of-type {\n",
       "        vertical-align: middle;\n",
       "    }\n",
       "\n",
       "    .dataframe tbody tr th {\n",
       "        vertical-align: top;\n",
       "    }\n",
       "\n",
       "    .dataframe thead th {\n",
       "        text-align: right;\n",
       "    }\n",
       "</style>\n",
       "<table border=\"1\" class=\"dataframe\">\n",
       "  <thead>\n",
       "    <tr style=\"text-align: right;\">\n",
       "      <th></th>\n",
       "      <th>Number of Unique Items</th>\n",
       "      <th>Average Price</th>\n",
       "      <th>Number of sales</th>\n",
       "      <th>Total Revenue</th>\n",
       "    </tr>\n",
       "  </thead>\n",
       "  <tbody>\n",
       "    <tr>\n",
       "      <th>0</th>\n",
       "      <td>179</td>\n",
       "      <td>$3.05</td>\n",
       "      <td>780</td>\n",
       "      <td>$2,379.77</td>\n",
       "    </tr>\n",
       "  </tbody>\n",
       "</table>\n",
       "</div>"
      ],
      "text/plain": [
       "   Number of Unique Items Average Price  Number of sales Total Revenue\n",
       "0                     179         $3.05              780     $2,379.77"
      ]
     },
     "execution_count": 3,
     "metadata": {},
     "output_type": "execute_result"
    }
   ],
   "source": [
    "#basic calculations to obtain number of unique items, average price, etc.\n",
    "Purchasing_analysis = [{\"Number of Unique Items\": len(purchase_data[\"Item Name\"].unique()), \n",
    "                      \"Average Price\": purchase_data[\"Price\"].mean(),\n",
    "                      \"Number of sales\": purchase_data[\"Item ID\"].count(),\n",
    "                    \"Total Revenue\": purchase_data[\"Price\"].sum()}]\n",
    "Purchasing_analysis\n",
    "\n",
    "\n",
    "#summary data frame to hold the results\n",
    "\n",
    "Summary_table_df = pd.DataFrame(Purchasing_analysis)\n",
    "Summary_table_df \n",
    "\n",
    "Summary_table_df[\"Average Price\"]= Summary_table_df[\"Average Price\"].map(\"${:,.2f}\".format)\n",
    "Summary_table_df[\"Total Revenue\"]= Summary_table_df[\"Total Revenue\"].map(\"${:,.2f}\".format)\n",
    "Summary_table_df "
   ]
  },
  {
   "cell_type": "markdown",
   "metadata": {},
   "source": [
    "### Gender Demographics  "
   ]
  },
  {
   "cell_type": "markdown",
   "metadata": {},
   "source": [
    "* Percentage and Count of Male Players\n",
    "\n",
    "\n",
    "* Percentage and Count of Female Players\n",
    "\n",
    "\n",
    "* Percentage and Count of Other / Non-Disclosed"
   ]
  },
  {
   "cell_type": "code",
   "execution_count": 4,
   "metadata": {},
   "outputs": [
    {
     "data": {
      "text/html": [
       "<div>\n",
       "<style scoped>\n",
       "    .dataframe tbody tr th:only-of-type {\n",
       "        vertical-align: middle;\n",
       "    }\n",
       "\n",
       "    .dataframe tbody tr th {\n",
       "        vertical-align: top;\n",
       "    }\n",
       "\n",
       "    .dataframe thead th {\n",
       "        text-align: right;\n",
       "    }\n",
       "</style>\n",
       "<table border=\"1\" class=\"dataframe\">\n",
       "  <thead>\n",
       "    <tr style=\"text-align: right;\">\n",
       "      <th></th>\n",
       "      <th>Total Counts</th>\n",
       "      <th>Percentage of Players</th>\n",
       "    </tr>\n",
       "    <tr>\n",
       "      <th>Gender</th>\n",
       "      <th></th>\n",
       "      <th></th>\n",
       "    </tr>\n",
       "  </thead>\n",
       "  <tbody>\n",
       "    <tr>\n",
       "      <th>Female</th>\n",
       "      <td>81</td>\n",
       "      <td>14.06%</td>\n",
       "    </tr>\n",
       "    <tr>\n",
       "      <th>Male</th>\n",
       "      <td>484</td>\n",
       "      <td>84.03%</td>\n",
       "    </tr>\n",
       "    <tr>\n",
       "      <th>Other / Non-Disclosed</th>\n",
       "      <td>11</td>\n",
       "      <td>1.91%</td>\n",
       "    </tr>\n",
       "  </tbody>\n",
       "</table>\n",
       "</div>"
      ],
      "text/plain": [
       "                       Total Counts Percentage of Players\n",
       "Gender                                                   \n",
       "Female                           81                14.06%\n",
       "Male                            484                84.03%\n",
       "Other / Non-Disclosed            11                 1.91%"
      ]
     },
     "execution_count": 4,
     "metadata": {},
     "output_type": "execute_result"
    }
   ],
   "source": [
    "#Percentage and Count of Male, Female and Other Players\n",
    "gender_groupby = purchase_data.groupby(\"Gender\")\n",
    "gender_total = gender_groupby.nunique()[\"SN\"]\n",
    "\n",
    "\n",
    "percentage_of_players = gender_total/total_players * 100\n",
    "\n",
    "gender_demographics_df = pd.DataFrame({\"Total Counts\": gender_total, \"Percentage of Players\": percentage_of_players})\n",
    "gender_demographics_df \n",
    "\n",
    "gender_demographics_df[\"Percentage of Players\"]= gender_demographics_df [\"Percentage of Players\"].map(\"{:,.2f}%\".format)\n",
    "gender_demographics_df "
   ]
  },
  {
   "cell_type": "markdown",
   "metadata": {},
   "source": [
    "## Purchasing Analysis (Gender)"
   ]
  },
  {
   "cell_type": "markdown",
   "metadata": {},
   "source": [
    "* Run basic calculations to obtain purchase count, avg. purchase price, avg. purchase total per person etc. by gender\n",
    "\n",
    "* Create a summary data frame to hold the results\n",
    "\n",
    "* Optional: give the displayed data cleaner formatting\n",
    "\n",
    "* Display the summary data frame"
   ]
  },
  {
   "cell_type": "code",
   "execution_count": 14,
   "metadata": {},
   "outputs": [
    {
     "data": {
      "text/html": [
       "<div>\n",
       "<style scoped>\n",
       "    .dataframe tbody tr th:only-of-type {\n",
       "        vertical-align: middle;\n",
       "    }\n",
       "\n",
       "    .dataframe tbody tr th {\n",
       "        vertical-align: top;\n",
       "    }\n",
       "\n",
       "    .dataframe thead th {\n",
       "        text-align: right;\n",
       "    }\n",
       "</style>\n",
       "<table border=\"1\" class=\"dataframe\">\n",
       "  <thead>\n",
       "    <tr style=\"text-align: right;\">\n",
       "      <th></th>\n",
       "      <th>Purchase Count</th>\n",
       "      <th>Average Purchase Price</th>\n",
       "      <th>Total Purchase Value</th>\n",
       "      <th>Average Total Purchase</th>\n",
       "    </tr>\n",
       "    <tr>\n",
       "      <th>Gender</th>\n",
       "      <th></th>\n",
       "      <th></th>\n",
       "      <th></th>\n",
       "      <th></th>\n",
       "    </tr>\n",
       "  </thead>\n",
       "  <tbody>\n",
       "    <tr>\n",
       "      <th>Female</th>\n",
       "      <td>113</td>\n",
       "      <td>$3.20</td>\n",
       "      <td>$361.94</td>\n",
       "      <td>$0.63</td>\n",
       "    </tr>\n",
       "    <tr>\n",
       "      <th>Male</th>\n",
       "      <td>652</td>\n",
       "      <td>$3.02</td>\n",
       "      <td>$1,967.64</td>\n",
       "      <td>$3.42</td>\n",
       "    </tr>\n",
       "    <tr>\n",
       "      <th>Other / Non-Disclosed</th>\n",
       "      <td>15</td>\n",
       "      <td>$3.35</td>\n",
       "      <td>$50.19</td>\n",
       "      <td>$0.09</td>\n",
       "    </tr>\n",
       "  </tbody>\n",
       "</table>\n",
       "</div>"
      ],
      "text/plain": [
       "                       Purchase Count Average Purchase Price  \\\n",
       "Gender                                                         \n",
       "Female                            113                  $3.20   \n",
       "Male                              652                  $3.02   \n",
       "Other / Non-Disclosed              15                  $3.35   \n",
       "\n",
       "                      Total Purchase Value Average Total Purchase  \n",
       "Gender                                                             \n",
       "Female                             $361.94                  $0.63  \n",
       "Male                             $1,967.64                  $3.42  \n",
       "Other / Non-Disclosed               $50.19                  $0.09  "
      ]
     },
     "execution_count": 14,
     "metadata": {},
     "output_type": "execute_result"
    }
   ],
   "source": [
    "#Ran basic calculations to obtain purchase count, avg. purchase price, avg. purchase total per person etc. by gender. \n",
    "#Created a summary data frame to hold the results\n",
    "purchasing_analysis_gender_df = pd.DataFrame({\"Purchase Count\":gender_groupby[\"Purchase ID\"].count(), \n",
    "                                     \"Average Purchase Price\":gender_groupby[\"Price\"].mean() , \n",
    "                                     \"Total Purchase Value\" : gender_groupby[\"Price\"].sum(),\n",
    "                                     \"Average Total Purchase\": gender_groupby[\"Price\"].sum()/total_players})\n",
    "                                 \n",
    "purchasing_analysis_gender_df \n",
    "\n",
    "purchasing_analysis_gender_df[\"Average Purchase Price\"]= purchasing_analysis_gender_df[\"Average Purchase Price\"].map(\"${:,.2f}\".format)\n",
    "purchasing_analysis_gender_df[\"Total Purchase Value\"]= purchasing_analysis_gender_df[\"Total Purchase Value\"].map(\"${:,.2f}\".format)\n",
    "purchasing_analysis_gender_df[\"Average Total Purchase\"]= purchasing_analysis_gender_df[\"Average Total Purchase\"].map(\"${:,.2f}\".format)\n",
    "\n",
    "purchasing_analysis_gender_df "
   ]
  },
  {
   "cell_type": "markdown",
   "metadata": {},
   "source": [
    "## Age Demographics"
   ]
  },
  {
   "cell_type": "markdown",
   "metadata": {},
   "source": [
    "* Establish bins for ages\n",
    "\n",
    "\n",
    "* Categorize the existing players using the age bins. Hint: use pd.cut()\n",
    "\n",
    "\n",
    "* Calculate the numbers and percentages by age group\n",
    "\n",
    "\n",
    "* Create a summary data frame to hold the results\n",
    "\n",
    "\n",
    "* Optional: round the percentage column to two decimal points\n",
    "\n",
    "\n",
    "* Display Age Demographics Table"
   ]
  },
  {
   "cell_type": "code",
   "execution_count": 6,
   "metadata": {},
   "outputs": [
    {
     "data": {
      "text/html": [
       "<div>\n",
       "<style scoped>\n",
       "    .dataframe tbody tr th:only-of-type {\n",
       "        vertical-align: middle;\n",
       "    }\n",
       "\n",
       "    .dataframe tbody tr th {\n",
       "        vertical-align: top;\n",
       "    }\n",
       "\n",
       "    .dataframe thead th {\n",
       "        text-align: right;\n",
       "    }\n",
       "</style>\n",
       "<table border=\"1\" class=\"dataframe\">\n",
       "  <thead>\n",
       "    <tr style=\"text-align: right;\">\n",
       "      <th></th>\n",
       "      <th>Total Count</th>\n",
       "      <th>Percentage of Players</th>\n",
       "    </tr>\n",
       "    <tr>\n",
       "      <th>Age Group</th>\n",
       "      <th></th>\n",
       "      <th></th>\n",
       "    </tr>\n",
       "  </thead>\n",
       "  <tbody>\n",
       "    <tr>\n",
       "      <th>&lt;10</th>\n",
       "      <td>17</td>\n",
       "      <td>2.95%</td>\n",
       "    </tr>\n",
       "    <tr>\n",
       "      <th>10-14</th>\n",
       "      <td>22</td>\n",
       "      <td>3.82%</td>\n",
       "    </tr>\n",
       "    <tr>\n",
       "      <th>15-19</th>\n",
       "      <td>107</td>\n",
       "      <td>18.58%</td>\n",
       "    </tr>\n",
       "    <tr>\n",
       "      <th>20-24</th>\n",
       "      <td>258</td>\n",
       "      <td>44.79%</td>\n",
       "    </tr>\n",
       "    <tr>\n",
       "      <th>25-29</th>\n",
       "      <td>77</td>\n",
       "      <td>13.37%</td>\n",
       "    </tr>\n",
       "    <tr>\n",
       "      <th>30-34</th>\n",
       "      <td>52</td>\n",
       "      <td>9.03%</td>\n",
       "    </tr>\n",
       "    <tr>\n",
       "      <th>35-39</th>\n",
       "      <td>31</td>\n",
       "      <td>5.38%</td>\n",
       "    </tr>\n",
       "    <tr>\n",
       "      <th>40+</th>\n",
       "      <td>12</td>\n",
       "      <td>2.08%</td>\n",
       "    </tr>\n",
       "  </tbody>\n",
       "</table>\n",
       "</div>"
      ],
      "text/plain": [
       "           Total Count Percentage of Players\n",
       "Age Group                                   \n",
       "<10                 17                 2.95%\n",
       "10-14               22                 3.82%\n",
       "15-19              107                18.58%\n",
       "20-24              258                44.79%\n",
       "25-29               77                13.37%\n",
       "30-34               52                 9.03%\n",
       "35-39               31                 5.38%\n",
       "40+                 12                 2.08%"
      ]
     },
     "execution_count": 6,
     "metadata": {},
     "output_type": "execute_result"
    }
   ],
   "source": [
    "#Establish bins for ages\n",
    "bins = [0, 9.90, 14.90, 19.90, 24.90, 29.90, 34.90, 39.90, 99]\n",
    "group_names = [\"<10\", \"10-14\", \"15-19\", \"20-24\", \"25-29\", \"30-34\", \"35-39\", \"40+\"]\n",
    "\n",
    "#Categorize the existing players using the age bins. Hint: use pd.cut()\n",
    "purchase_data[\"Age Group\"] = pd.cut(purchase_data[\"Age\"],bins, labels=group_names)\n",
    "purchase_data\n",
    "\n",
    "#Calculate the numbers and percentages by age group\n",
    "age_groupby = purchase_data.groupby(\"Age Group\")\n",
    "age_groupby\n",
    "\n",
    "age_total = age_groupby.nunique()[\"SN\"]\n",
    "\n",
    "percentage_players = age_total/total_players * 100\n",
    "percentage_players \n",
    "\n",
    "#Create a summary data frame to hold the results\n",
    "age_demographics_df = pd.DataFrame({\"Total Count\":age_total, \"Percentage of Players\": percentage_players })\n",
    "age_demographics_df\n",
    "\n",
    "#round the percentage column to two decimal points\n",
    "age_demographics_df[\"Percentage of Players\"]= age_demographics_df[\"Percentage of Players\"].map(\"{:,.2f}%\".format)\n",
    "age_demographics_df"
   ]
  },
  {
   "cell_type": "markdown",
   "metadata": {},
   "source": [
    "## Purchasing Analysis (Age)"
   ]
  },
  {
   "cell_type": "markdown",
   "metadata": {},
   "source": [
    "* Bin the purchase_data data frame by age\n",
    "\n",
    "\n",
    "* Run basic calculations to obtain purchase count, avg. purchase price, avg. purchase total per person etc. in the table below\n",
    "\n",
    "\n",
    "* Create a summary data frame to hold the results\n",
    "\n",
    "\n",
    "* Optional: give the displayed data cleaner formatting\n",
    "\n",
    "\n",
    "* Display the summary data frame"
   ]
  },
  {
   "cell_type": "code",
   "execution_count": 8,
   "metadata": {},
   "outputs": [
    {
     "data": {
      "text/html": [
       "<div>\n",
       "<style scoped>\n",
       "    .dataframe tbody tr th:only-of-type {\n",
       "        vertical-align: middle;\n",
       "    }\n",
       "\n",
       "    .dataframe tbody tr th {\n",
       "        vertical-align: top;\n",
       "    }\n",
       "\n",
       "    .dataframe thead th {\n",
       "        text-align: right;\n",
       "    }\n",
       "</style>\n",
       "<table border=\"1\" class=\"dataframe\">\n",
       "  <thead>\n",
       "    <tr style=\"text-align: right;\">\n",
       "      <th></th>\n",
       "      <th>Purchase Count</th>\n",
       "      <th>Average Purchase Price</th>\n",
       "      <th>Purchase Total Per Person</th>\n",
       "      <th>Total Purchase Per Person</th>\n",
       "    </tr>\n",
       "    <tr>\n",
       "      <th>Age Group</th>\n",
       "      <th></th>\n",
       "      <th></th>\n",
       "      <th></th>\n",
       "      <th></th>\n",
       "    </tr>\n",
       "  </thead>\n",
       "  <tbody>\n",
       "    <tr>\n",
       "      <th>&lt;10</th>\n",
       "      <td>23</td>\n",
       "      <td>$3.35</td>\n",
       "      <td>$77.13</td>\n",
       "      <td>$4.54</td>\n",
       "    </tr>\n",
       "    <tr>\n",
       "      <th>10-14</th>\n",
       "      <td>28</td>\n",
       "      <td>$2.96</td>\n",
       "      <td>$82.78</td>\n",
       "      <td>$3.76</td>\n",
       "    </tr>\n",
       "    <tr>\n",
       "      <th>15-19</th>\n",
       "      <td>136</td>\n",
       "      <td>$3.04</td>\n",
       "      <td>$412.89</td>\n",
       "      <td>$3.86</td>\n",
       "    </tr>\n",
       "    <tr>\n",
       "      <th>20-24</th>\n",
       "      <td>365</td>\n",
       "      <td>$3.05</td>\n",
       "      <td>$1,114.06</td>\n",
       "      <td>$4.32</td>\n",
       "    </tr>\n",
       "    <tr>\n",
       "      <th>25-29</th>\n",
       "      <td>101</td>\n",
       "      <td>$2.90</td>\n",
       "      <td>$293.00</td>\n",
       "      <td>$3.81</td>\n",
       "    </tr>\n",
       "    <tr>\n",
       "      <th>30-34</th>\n",
       "      <td>73</td>\n",
       "      <td>$2.93</td>\n",
       "      <td>$214.00</td>\n",
       "      <td>$4.12</td>\n",
       "    </tr>\n",
       "    <tr>\n",
       "      <th>35-39</th>\n",
       "      <td>41</td>\n",
       "      <td>$3.60</td>\n",
       "      <td>$147.67</td>\n",
       "      <td>$4.76</td>\n",
       "    </tr>\n",
       "    <tr>\n",
       "      <th>40+</th>\n",
       "      <td>13</td>\n",
       "      <td>$2.94</td>\n",
       "      <td>$38.24</td>\n",
       "      <td>$3.19</td>\n",
       "    </tr>\n",
       "  </tbody>\n",
       "</table>\n",
       "</div>"
      ],
      "text/plain": [
       "           Purchase Count Average Purchase Price Purchase Total Per Person  \\\n",
       "Age Group                                                                    \n",
       "<10                    23                  $3.35                    $77.13   \n",
       "10-14                  28                  $2.96                    $82.78   \n",
       "15-19                 136                  $3.04                   $412.89   \n",
       "20-24                 365                  $3.05                 $1,114.06   \n",
       "25-29                 101                  $2.90                   $293.00   \n",
       "30-34                  73                  $2.93                   $214.00   \n",
       "35-39                  41                  $3.60                   $147.67   \n",
       "40+                    13                  $2.94                    $38.24   \n",
       "\n",
       "          Total Purchase Per Person  \n",
       "Age Group                            \n",
       "<10                           $4.54  \n",
       "10-14                         $3.76  \n",
       "15-19                         $3.86  \n",
       "20-24                         $4.32  \n",
       "25-29                         $3.81  \n",
       "30-34                         $4.12  \n",
       "35-39                         $4.76  \n",
       "40+                           $3.19  "
      ]
     },
     "execution_count": 8,
     "metadata": {},
     "output_type": "execute_result"
    }
   ],
   "source": [
    "purchasing_analysis_df = pd.DataFrame({\"Purchase Count\":age_groupby[\"Purchase ID\"].count(), \n",
    "                                      \"Average Purchase Price\":age_groupby[\"Price\"].mean(),\n",
    "                                      \"Purchase Total Per Person\": age_groupby[\"Price\"].sum(),\n",
    "                                      \"Total Purchase Per Person\": (age_groupby[\"Price\"].sum())/age_total})\n",
    "\n",
    "purchasing_analysis_df\n",
    "\n",
    "purchasing_analysis_df[\"Average Purchase Price\"]= purchasing_analysis_df[\"Average Purchase Price\"].map(\"${:,.2f}\".format)\n",
    "purchasing_analysis_df[\"Purchase Total Per Person\"]= purchasing_analysis_df[\"Purchase Total Per Person\"].map(\"${:,.2f}\".format)\n",
    "purchasing_analysis_df[\"Total Purchase Per Person\"]= purchasing_analysis_df[\"Total Purchase Per Person\"].map(\"${:,.2f}\".format)\n",
    "\n",
    "purchasing_analysis_df"
   ]
  },
  {
   "cell_type": "markdown",
   "metadata": {},
   "source": [
    "## Top Spenders"
   ]
  },
  {
   "cell_type": "markdown",
   "metadata": {},
   "source": [
    "* Run basic calculations to obtain the results in the table below\n",
    "\n",
    "\n",
    "* Create a summary data frame to hold the results\n",
    "\n",
    "\n",
    "* Sort the total purchase value column in descending order\n",
    "\n",
    "\n",
    "* Optional: give the displayed data cleaner formatting\n",
    "\n",
    "\n",
    "* Display a preview of the summary data frame"
   ]
  },
  {
   "cell_type": "code",
   "execution_count": 9,
   "metadata": {},
   "outputs": [
    {
     "data": {
      "text/html": [
       "<div>\n",
       "<style scoped>\n",
       "    .dataframe tbody tr th:only-of-type {\n",
       "        vertical-align: middle;\n",
       "    }\n",
       "\n",
       "    .dataframe tbody tr th {\n",
       "        vertical-align: top;\n",
       "    }\n",
       "\n",
       "    .dataframe thead th {\n",
       "        text-align: right;\n",
       "    }\n",
       "</style>\n",
       "<table border=\"1\" class=\"dataframe\">\n",
       "  <thead>\n",
       "    <tr style=\"text-align: right;\">\n",
       "      <th></th>\n",
       "      <th>Purchase Count</th>\n",
       "      <th>Average Purchase Price</th>\n",
       "      <th>Total Purchase Value</th>\n",
       "    </tr>\n",
       "    <tr>\n",
       "      <th>SN</th>\n",
       "      <th></th>\n",
       "      <th></th>\n",
       "      <th></th>\n",
       "    </tr>\n",
       "  </thead>\n",
       "  <tbody>\n",
       "    <tr>\n",
       "      <th>Lisosia93</th>\n",
       "      <td>5</td>\n",
       "      <td>$3.79</td>\n",
       "      <td>$18.96</td>\n",
       "    </tr>\n",
       "    <tr>\n",
       "      <th>Idastidru52</th>\n",
       "      <td>4</td>\n",
       "      <td>$3.86</td>\n",
       "      <td>$15.45</td>\n",
       "    </tr>\n",
       "    <tr>\n",
       "      <th>Chamjask73</th>\n",
       "      <td>3</td>\n",
       "      <td>$4.61</td>\n",
       "      <td>$13.83</td>\n",
       "    </tr>\n",
       "    <tr>\n",
       "      <th>Iral74</th>\n",
       "      <td>4</td>\n",
       "      <td>$3.40</td>\n",
       "      <td>$13.62</td>\n",
       "    </tr>\n",
       "    <tr>\n",
       "      <th>Iskadarya95</th>\n",
       "      <td>3</td>\n",
       "      <td>$4.37</td>\n",
       "      <td>$13.10</td>\n",
       "    </tr>\n",
       "  </tbody>\n",
       "</table>\n",
       "</div>"
      ],
      "text/plain": [
       "             Purchase Count Average Purchase Price Total Purchase Value\n",
       "SN                                                                     \n",
       "Lisosia93                 5                  $3.79               $18.96\n",
       "Idastidru52               4                  $3.86               $15.45\n",
       "Chamjask73                3                  $4.61               $13.83\n",
       "Iral74                    4                  $3.40               $13.62\n",
       "Iskadarya95               3                  $4.37               $13.10"
      ]
     },
     "execution_count": 9,
     "metadata": {},
     "output_type": "execute_result"
    }
   ],
   "source": [
    "spender_id = purchase_data.groupby('SN')\n",
    "ts_purchase_count = spender_id[\"Purchase ID\"].count()\n",
    "ts_average_purchase_price = spender_id[\"Price\"].mean()\n",
    "ts_total_value= spender_id[\"Price\"].sum()\n",
    "\n",
    "\n",
    "purchasing_analysis_df = pd.DataFrame({\"Purchase Count\":ts_purchase_count, \n",
    "                                      \"Average Purchase Price\":ts_average_purchase_price ,\n",
    "                                      \"Total Purchase Value\":ts_total_value})\n",
    "\n",
    "purchasing_analysis_df\n",
    "\n",
    "top_spenders_df = purchasing_analysis_df.sort_values([\"Total Purchase Value\"], ascending=False)\n",
    "top_spenders_df.head()\n",
    "\n",
    "top_spenders_df[\"Average Purchase Price\"]= top_spenders_df[\"Average Purchase Price\"].map(\"${:,.2f}\".format)\n",
    "top_spenders_df[\"Total Purchase Value\"]= top_spenders_df[\"Total Purchase Value\"].map(\"${:,.2f}\".format)\n",
    "top_spenders_df.head()"
   ]
  },
  {
   "cell_type": "markdown",
   "metadata": {},
   "source": [
    "# Most Popular Item"
   ]
  },
  {
   "cell_type": "markdown",
   "metadata": {},
   "source": [
    "* Retrieve the Item ID, Item Name, and Item Price columns\n",
    "\n",
    "\n",
    "* Group by Item ID and Item Name. Perform calculations to obtain purchase count, item price, and total purchase value\n",
    "\n",
    "\n",
    "* Create a summary data frame to hold the results\n",
    "\n",
    "\n",
    "* Sort the purchase count column in descending order\n",
    "\n",
    "\n",
    "* Optional: give the displayed data cleaner formatting\n",
    "\n",
    "\n",
    "* Display a preview of the summary data frame\n"
   ]
  },
  {
   "cell_type": "code",
   "execution_count": 11,
   "metadata": {},
   "outputs": [
    {
     "data": {
      "text/html": [
       "<style  type=\"text/css\" >\n",
       "</style><table id=\"T_bc3128dc_db90_11ea_ab6d_a683e7c560f2\" ><thead>    <tr>        <th class=\"blank\" ></th>        <th class=\"blank level0\" ></th>        <th class=\"col_heading level0 col0\" >Purchase Count</th>        <th class=\"col_heading level0 col1\" >Item Price</th>        <th class=\"col_heading level0 col2\" >Total Purchase Value</th>    </tr>    <tr>        <th class=\"index_name level0\" >Item ID</th>        <th class=\"index_name level1\" >Item Name</th>        <th class=\"blank\" ></th>        <th class=\"blank\" ></th>        <th class=\"blank\" ></th>    </tr></thead><tbody>\n",
       "                <tr>\n",
       "                        <th id=\"T_bc3128dc_db90_11ea_ab6d_a683e7c560f2level0_row0\" class=\"row_heading level0 row0\" >178</th>\n",
       "                        <th id=\"T_bc3128dc_db90_11ea_ab6d_a683e7c560f2level1_row0\" class=\"row_heading level1 row0\" >Oathbreaker, Last Hope of the Breaking Storm</th>\n",
       "                        <td id=\"T_bc3128dc_db90_11ea_ab6d_a683e7c560f2row0_col0\" class=\"data row0 col0\" >12</td>\n",
       "                        <td id=\"T_bc3128dc_db90_11ea_ab6d_a683e7c560f2row0_col1\" class=\"data row0 col1\" >$4.23</td>\n",
       "                        <td id=\"T_bc3128dc_db90_11ea_ab6d_a683e7c560f2row0_col2\" class=\"data row0 col2\" >$50.76</td>\n",
       "            </tr>\n",
       "            <tr>\n",
       "                        <th id=\"T_bc3128dc_db90_11ea_ab6d_a683e7c560f2level0_row1\" class=\"row_heading level0 row1\" >145</th>\n",
       "                        <th id=\"T_bc3128dc_db90_11ea_ab6d_a683e7c560f2level1_row1\" class=\"row_heading level1 row1\" >Fiery Glass Crusader</th>\n",
       "                        <td id=\"T_bc3128dc_db90_11ea_ab6d_a683e7c560f2row1_col0\" class=\"data row1 col0\" >9</td>\n",
       "                        <td id=\"T_bc3128dc_db90_11ea_ab6d_a683e7c560f2row1_col1\" class=\"data row1 col1\" >$4.58</td>\n",
       "                        <td id=\"T_bc3128dc_db90_11ea_ab6d_a683e7c560f2row1_col2\" class=\"data row1 col2\" >$41.22</td>\n",
       "            </tr>\n",
       "            <tr>\n",
       "                        <th id=\"T_bc3128dc_db90_11ea_ab6d_a683e7c560f2level0_row2\" class=\"row_heading level0 row2\" >108</th>\n",
       "                        <th id=\"T_bc3128dc_db90_11ea_ab6d_a683e7c560f2level1_row2\" class=\"row_heading level1 row2\" >Extraction, Quickblade Of Trembling Hands</th>\n",
       "                        <td id=\"T_bc3128dc_db90_11ea_ab6d_a683e7c560f2row2_col0\" class=\"data row2 col0\" >9</td>\n",
       "                        <td id=\"T_bc3128dc_db90_11ea_ab6d_a683e7c560f2row2_col1\" class=\"data row2 col1\" >$3.53</td>\n",
       "                        <td id=\"T_bc3128dc_db90_11ea_ab6d_a683e7c560f2row2_col2\" class=\"data row2 col2\" >$31.77</td>\n",
       "            </tr>\n",
       "            <tr>\n",
       "                        <th id=\"T_bc3128dc_db90_11ea_ab6d_a683e7c560f2level0_row3\" class=\"row_heading level0 row3\" >82</th>\n",
       "                        <th id=\"T_bc3128dc_db90_11ea_ab6d_a683e7c560f2level1_row3\" class=\"row_heading level1 row3\" >Nirvana</th>\n",
       "                        <td id=\"T_bc3128dc_db90_11ea_ab6d_a683e7c560f2row3_col0\" class=\"data row3 col0\" >9</td>\n",
       "                        <td id=\"T_bc3128dc_db90_11ea_ab6d_a683e7c560f2row3_col1\" class=\"data row3 col1\" >$4.90</td>\n",
       "                        <td id=\"T_bc3128dc_db90_11ea_ab6d_a683e7c560f2row3_col2\" class=\"data row3 col2\" >$44.10</td>\n",
       "            </tr>\n",
       "            <tr>\n",
       "                        <th id=\"T_bc3128dc_db90_11ea_ab6d_a683e7c560f2level0_row4\" class=\"row_heading level0 row4\" >19</th>\n",
       "                        <th id=\"T_bc3128dc_db90_11ea_ab6d_a683e7c560f2level1_row4\" class=\"row_heading level1 row4\" >Pursuit, Cudgel of Necromancy</th>\n",
       "                        <td id=\"T_bc3128dc_db90_11ea_ab6d_a683e7c560f2row4_col0\" class=\"data row4 col0\" >8</td>\n",
       "                        <td id=\"T_bc3128dc_db90_11ea_ab6d_a683e7c560f2row4_col1\" class=\"data row4 col1\" >$1.02</td>\n",
       "                        <td id=\"T_bc3128dc_db90_11ea_ab6d_a683e7c560f2row4_col2\" class=\"data row4 col2\" >$8.16</td>\n",
       "            </tr>\n",
       "    </tbody></table>"
      ],
      "text/plain": [
       "<pandas.io.formats.style.Styler at 0x1010a3550>"
      ]
     },
     "execution_count": 11,
     "metadata": {},
     "output_type": "execute_result"
    }
   ],
   "source": [
    "#Retrieve the Item ID, Item Name, and Item Price columns\n",
    "item_data = purchase_data[[\"Item ID\", \"Item Name\", \"Price\"]]\n",
    "\n",
    "#Group by Item ID and Item Name. Perform calculations to obtain purchase count, item price, and total purchase value\n",
    "items_grouped = item_data.groupby([\"Item ID\", \"Item Name\"])\n",
    "\n",
    "#Create a summary data frame to hold the results\n",
    "purchase_count = items_grouped.count()[\"Price\"]\n",
    "total_purchase_value = items_grouped.sum()[\"Price\"]\n",
    "item_price = items_grouped.mean()[\"Price\"]\n",
    "\n",
    "#Sort the purchase count column in descending order\n",
    "most_pop_item = pd.DataFrame({\"Purchase Count\": purchase_count,\n",
    "                             \"Item Price\": item_price,\n",
    "                             \"Total Purchase Value\": total_purchase_value})\n",
    "\n",
    "most_popular_item = most_pop_item.sort_values([\"Purchase Count\"], ascending=False).head(5)\n",
    "most_popular_item.style.format({\"Item Price\":\"${:,.2f}\",\n",
    "                                \"Total Purchase Value\":\"${:,.2f}\"})"
   ]
  },
  {
   "cell_type": "markdown",
   "metadata": {},
   "source": [
    "# Most Profitable Items"
   ]
  },
  {
   "cell_type": "markdown",
   "metadata": {},
   "source": [
    "* Sort the above table by total purchase value in descending order\n",
    "\n",
    "\n",
    "* Optional: give the displayed data cleaner formatting\n",
    "\n",
    "\n",
    "* Display a preview of the data frame\n"
   ]
  },
  {
   "cell_type": "code",
   "execution_count": 12,
   "metadata": {},
   "outputs": [
    {
     "data": {
      "text/html": [
       "<style  type=\"text/css\" >\n",
       "</style><table id=\"T_d6d1ba08_db90_11ea_ab6d_a683e7c560f2\" ><thead>    <tr>        <th class=\"blank\" ></th>        <th class=\"blank level0\" ></th>        <th class=\"col_heading level0 col0\" >Purchase Count</th>        <th class=\"col_heading level0 col1\" >Item Price</th>        <th class=\"col_heading level0 col2\" >Total Purchase Value</th>    </tr>    <tr>        <th class=\"index_name level0\" >Item ID</th>        <th class=\"index_name level1\" >Item Name</th>        <th class=\"blank\" ></th>        <th class=\"blank\" ></th>        <th class=\"blank\" ></th>    </tr></thead><tbody>\n",
       "                <tr>\n",
       "                        <th id=\"T_d6d1ba08_db90_11ea_ab6d_a683e7c560f2level0_row0\" class=\"row_heading level0 row0\" >178</th>\n",
       "                        <th id=\"T_d6d1ba08_db90_11ea_ab6d_a683e7c560f2level1_row0\" class=\"row_heading level1 row0\" >Oathbreaker, Last Hope of the Breaking Storm</th>\n",
       "                        <td id=\"T_d6d1ba08_db90_11ea_ab6d_a683e7c560f2row0_col0\" class=\"data row0 col0\" >12</td>\n",
       "                        <td id=\"T_d6d1ba08_db90_11ea_ab6d_a683e7c560f2row0_col1\" class=\"data row0 col1\" >$4.23</td>\n",
       "                        <td id=\"T_d6d1ba08_db90_11ea_ab6d_a683e7c560f2row0_col2\" class=\"data row0 col2\" >$50.76</td>\n",
       "            </tr>\n",
       "            <tr>\n",
       "                        <th id=\"T_d6d1ba08_db90_11ea_ab6d_a683e7c560f2level0_row1\" class=\"row_heading level0 row1\" >82</th>\n",
       "                        <th id=\"T_d6d1ba08_db90_11ea_ab6d_a683e7c560f2level1_row1\" class=\"row_heading level1 row1\" >Nirvana</th>\n",
       "                        <td id=\"T_d6d1ba08_db90_11ea_ab6d_a683e7c560f2row1_col0\" class=\"data row1 col0\" >9</td>\n",
       "                        <td id=\"T_d6d1ba08_db90_11ea_ab6d_a683e7c560f2row1_col1\" class=\"data row1 col1\" >$4.90</td>\n",
       "                        <td id=\"T_d6d1ba08_db90_11ea_ab6d_a683e7c560f2row1_col2\" class=\"data row1 col2\" >$44.10</td>\n",
       "            </tr>\n",
       "            <tr>\n",
       "                        <th id=\"T_d6d1ba08_db90_11ea_ab6d_a683e7c560f2level0_row2\" class=\"row_heading level0 row2\" >145</th>\n",
       "                        <th id=\"T_d6d1ba08_db90_11ea_ab6d_a683e7c560f2level1_row2\" class=\"row_heading level1 row2\" >Fiery Glass Crusader</th>\n",
       "                        <td id=\"T_d6d1ba08_db90_11ea_ab6d_a683e7c560f2row2_col0\" class=\"data row2 col0\" >9</td>\n",
       "                        <td id=\"T_d6d1ba08_db90_11ea_ab6d_a683e7c560f2row2_col1\" class=\"data row2 col1\" >$4.58</td>\n",
       "                        <td id=\"T_d6d1ba08_db90_11ea_ab6d_a683e7c560f2row2_col2\" class=\"data row2 col2\" >$41.22</td>\n",
       "            </tr>\n",
       "            <tr>\n",
       "                        <th id=\"T_d6d1ba08_db90_11ea_ab6d_a683e7c560f2level0_row3\" class=\"row_heading level0 row3\" >92</th>\n",
       "                        <th id=\"T_d6d1ba08_db90_11ea_ab6d_a683e7c560f2level1_row3\" class=\"row_heading level1 row3\" >Final Critic</th>\n",
       "                        <td id=\"T_d6d1ba08_db90_11ea_ab6d_a683e7c560f2row3_col0\" class=\"data row3 col0\" >8</td>\n",
       "                        <td id=\"T_d6d1ba08_db90_11ea_ab6d_a683e7c560f2row3_col1\" class=\"data row3 col1\" >$4.88</td>\n",
       "                        <td id=\"T_d6d1ba08_db90_11ea_ab6d_a683e7c560f2row3_col2\" class=\"data row3 col2\" >$39.04</td>\n",
       "            </tr>\n",
       "            <tr>\n",
       "                        <th id=\"T_d6d1ba08_db90_11ea_ab6d_a683e7c560f2level0_row4\" class=\"row_heading level0 row4\" >103</th>\n",
       "                        <th id=\"T_d6d1ba08_db90_11ea_ab6d_a683e7c560f2level1_row4\" class=\"row_heading level1 row4\" >Singed Scalpel</th>\n",
       "                        <td id=\"T_d6d1ba08_db90_11ea_ab6d_a683e7c560f2row4_col0\" class=\"data row4 col0\" >8</td>\n",
       "                        <td id=\"T_d6d1ba08_db90_11ea_ab6d_a683e7c560f2row4_col1\" class=\"data row4 col1\" >$4.35</td>\n",
       "                        <td id=\"T_d6d1ba08_db90_11ea_ab6d_a683e7c560f2row4_col2\" class=\"data row4 col2\" >$34.80</td>\n",
       "            </tr>\n",
       "    </tbody></table>"
      ],
      "text/plain": [
       "<pandas.io.formats.style.Styler at 0x113e03750>"
      ]
     },
     "execution_count": 12,
     "metadata": {},
     "output_type": "execute_result"
    }
   ],
   "source": [
    "#Sort the above table by total purchase value in descending order\n",
    "most_profitable_item = most_pop_item.sort_values([\"Total Purchase Value\"], ascending=False).head()\n",
    "most_profitable_item.style.format({\"Item Price\":\"${:,.2f}\",\n",
    "                                \"Total Purchase Value\":\"${:,.2f}\"})"
   ]
  },
  {
   "cell_type": "code",
   "execution_count": null,
   "metadata": {},
   "outputs": [],
   "source": []
  }
 ],
 "metadata": {
  "kernelspec": {
   "display_name": "base",
   "language": "python",
   "name": "base"
  },
  "language_info": {
   "codemirror_mode": {
    "name": "ipython",
    "version": 3
   },
   "file_extension": ".py",
   "mimetype": "text/x-python",
   "name": "python",
   "nbconvert_exporter": "python",
   "pygments_lexer": "ipython3",
   "version": "3.7.4"
  },
  "widgets": {
   "application/vnd.jupyter.widget-state+json": {
    "state": {},
    "version_major": 2,
    "version_minor": 0
   }
  }
 },
 "nbformat": 4,
 "nbformat_minor": 4
}
